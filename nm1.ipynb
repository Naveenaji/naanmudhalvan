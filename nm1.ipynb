{
  "cells": [
    {
      "cell_type": "code",
      "execution_count": null,
      "metadata": {
        "colab": {
          "base_uri": "https://localhost:8080/"
        },
        "id": "8nYS9qahzAQ_",
        "outputId": "3c56dbc0-e3c5-466b-bf1a-a0c8626e8fc9"
      },
      "outputs": [
        {
          "name": "stdout",
          "output_type": "stream",
          "text": [
            "Mounted at /content/drive\n"
          ]
        }
      ],
      "source": [
        "from google.colab import drive\n",
        "drive.mount('/content/drive', force_remount = True)"
      ]
    },
    {
      "cell_type": "code",
      "execution_count": null,
      "metadata": {
        "id": "K31C-zTfZdFa"
      },
      "outputs": [],
      "source": [
        "%%capture\n",
        "!pip install pydub\n",
        "!pip install noisereduce\n",
        "!pip install json-tricks"
      ]
    },
    {
      "cell_type": "code",
      "execution_count": null,
      "metadata": {
        "id": "li2EfZXmQehM"
      },
      "outputs": [],
      "source": [
        "%%capture\n",
        "import numpy as np\n",
        "import os\n",
        "from json_tricks import dump, load\n",
        "\n",
        "from pydub import AudioSegment, effects\n",
        "import librosa\n",
        "import noisereduce as nr\n",
        "\n",
        "import tensorflow as tf\n",
        "import keras\n",
        "import sklearn"
      ]
    },
    {
      "cell_type": "code",
      "execution_count": null,
      "metadata": {
        "id": "lUMWt35lTQQL"
      },
      "outputs": [],
      "source": [
        "# Emotion kind validation function for TESS database, due to emotions written within the file names.\n",
        "def find_emotion_T(name):\n",
        "        if('neutral' in name): return \"01\"\n",
        "        elif('happy' in name): return \"03\"\n",
        "        elif('sad' in name): return \"04\"\n",
        "        elif('angry' in name): return \"05\"\n",
        "        elif('fear' in name): return \"06\"\n",
        "        elif('disgust' in name): return \"07\"\n",
        "        elif('ps' in name): return \"08\"\n",
        "        else: return \"-1\"\n",
        "\n",
        "\n",
        "# 'emotions' list fix for classification purposes:\n",
        "#     Classification values start from 0, Thus an 'n = n-1' operation has been executed for both RAVDESS and TESS databases:\n",
        "def emotionfix(e_num):\n",
        "    if e_num == \"01\":   return 0 # neutral\n",
        "    elif e_num == \"02\": return 1 # calm\n",
        "    elif e_num == \"03\": return 2 # happy\n",
        "    elif e_num == \"04\": return 3 # sad\n",
        "    elif e_num == \"05\": return 4 # angry\n",
        "    elif e_num == \"06\": return 5 # fear\n",
        "    elif e_num == \"07\": return 6 # disgust\n",
        "    else:               return 7 # suprised"
      ]
    },
    {
      "cell_type": "code",
      "execution_count": null,
      "metadata": {
        "id": "wSpXqgJqMHvR"
      },
      "outputs": [],
      "source": [
        "# Concatenating all features to 'X' variable.\n",
        "X = np.concatenate((f_zcr, f_rms, f_mfccs), axis=2)\n",
        "\n",
        "# Preparing 'Y' as a 2D shaped variable.\n",
        "Y = np.asarray(emotions).astype('int8')\n",
        "Y = np.expand_dims(Y, axis=1)"
      ]
    },
    {
      "cell_type": "code",
      "execution_count": null,
      "metadata": {
        "id": "JZR2SoDp61pR"
      },
      "outputs": [],
      "source": [
        "# Save X,Y arrays as lists to json files.\n",
        "\n",
        "x_data = X.tolist()\n",
        "x_path = '/content/drive/My Drive/Colab Notebooks/X_datanew.json' # FILE SAVE PATH\n",
        "dump(obj = x_data, fp = x_path)\n",
        "\n",
        "y_data = Y.tolist()\n",
        "y_path = '/content/drive/My Drive/Colab Notebooks/Y_datanew.json' # FILE SAVE PATH\n",
        "dump(obj = y_data, fp = y_path)\n"
      ]
    },
    {
      "cell_type": "code",
      "execution_count": null,
      "metadata": {
        "id": "oy53CmsODtSQ"
      },
      "outputs": [],
      "source": [
        "# Load X,Y json files back into lists, convert to np.arrays\n",
        "\n",
        "x_path = '/content/drive/My Drive/Colab Notebooks/X_datanew.json' # FILE LOAD PATH\n",
        "X = load(x_path)\n",
        "X = np.asarray(X, dtype = 'float32')\n",
        "\n",
        "y_path = '/content/drive/My Drive/Colab Notebooks/Y_datanew.json' # FILE LOAD PATH\n",
        "Y = load(y_path)\n",
        "Y = np.asarray(Y, dtype = 'int8')"
      ]
    },
    {
      "cell_type": "code",
      "execution_count": null,
      "metadata": {
        "id": "h1Photkwq-bw"
      },
      "outputs": [],
      "source": [
        "# Split to train, validation, and test sets.\n",
        "from sklearn.model_selection import train_test_split\n",
        "x_train, x_tosplit, y_train, y_tosplit = train_test_split(X, Y, test_size = 0.125, random_state = 1)\n",
        "x_val, x_test, y_val, y_test = train_test_split(x_tosplit, y_tosplit, test_size = 0.304, random_state = 1)\n",
        "\n",
        "#'One-hot' vectors for Y: emotion classification\n",
        "y_train_class = tf.keras.utils.to_categorical(y_train, 8, dtype = 'int8')\n",
        "y_val_class = tf.keras.utils.to_categorical(y_val, 8, dtype = 'int8')"
      ]
    },
    {
      "cell_type": "code",
      "execution_count": null,
      "metadata": {
        "colab": {
          "base_uri": "https://localhost:8080/"
        },
        "id": "NgRlZBJbMHvX",
        "outputId": "e8f0a462-16c6-47f5-94ea-5731fcbc4cbe"
      },
      "outputs": [],
      "source": [
        "# x_train, x_val, and x_test shape check.\n",
        "print(np.shape(x_train))\n",
        "print(np.shape(x_val))\n",
        "print(np.shape(x_test))"
      ]
    },
    {
      "cell_type": "code",
      "execution_count": null,
      "metadata": {
        "id": "aW4qJ9VogZJ2"
      },
      "outputs": [],
      "source": [
        "# Save x_test, y_test to JSON.\n",
        "\n",
        "file_path = 'x_test_data.json'\n",
        "dump(obj = x_test, fp = file_path)\n",
        "\n",
        "file_path = 'y_test_data.json'\n",
        "dump(obj = y_test, fp = file_path)"
      ]
    },
    {
      "cell_type": "code",
      "execution_count": null,
      "metadata": {
        "id": "1ROkmISHZCkM"
      },
      "outputs": [],
      "source": [
        "from keras.models import Sequential\n",
        "from keras import layers\n",
        "from keras import optimizers\n",
        "from keras import callbacks"
      ]
    },
    {
      "cell_type": "code",
      "execution_count": null,
      "metadata": {
        "colab": {
          "base_uri": "https://localhost:8080/"
        },
        "id": "3DroQ71fXxPN",
        "outputId": "54379fcf-9f63-4568-84c0-5e388d86b86a"
      },
      "outputs": [],
      "source": [
        "# Initializing the model\n",
        "\n",
        "model = Sequential()\n",
        "model.add(layers.LSTM(64, return_sequences = True, input_shape=(X.shape[1:3])))\n",
        "model.add(layers.LSTM(64))\n",
        "model.add(layers.Dense(8, activation = 'softmax'))\n",
        "print(model.summary())\n",
        "\n",
        "batch_size = 23\n",
        "\n",
        "# Callbacks functions\n",
        "checkpoint_path = '/content/drive/My Drive/Colab Notebooks/best_weights.hdf5'\n",
        "\n",
        "#-> Save the best weights\n",
        "mcp_save = callbacks.ModelCheckpoint(checkpoint_path, save_best_only=True,\n",
        "                           monitor='val_categorical_accuracy',\n",
        "                           mode='max')\n",
        "#-> Reduce learning rate after 100 epoches without improvement.\n",
        "rlrop = callbacks.ReduceLROnPlateau(monitor='val_categorical_accuracy',\n",
        "                                    factor=0.1, patience=100)\n",
        "\n",
        "# Compile & train\n",
        "model.compile(loss='categorical_crossentropy',\n",
        "                optimizer='RMSProp',\n",
        "                metrics=['categorical_accuracy'])\n",
        "\n",
        "history = model.fit(x_train, y_train_class,\n",
        "                      epochs=340, batch_size = batch_size,\n",
        "                      validation_data = (x_val, y_val_class),\n",
        "                      callbacks = [mcp_save, rlrop])\n",
        "# Define the best weights to the model.\n",
        "model.load_weights(checkpoint_path)"
      ]
    },
    {
      "cell_type": "code",
      "execution_count": null,
      "metadata": {
        "id": "t3xnV1S7ra_Y"
      },
      "outputs": [],
      "source": [
        "from sklearn.metrics import confusion_matrix\n",
        "import seaborn as sns\n",
        "import matplotlib.pyplot as plt"
      ]
    },
    {
      "cell_type": "code",
      "execution_count": null,
      "metadata": {
        "colab": {
          "base_uri": "https://localhost:8080/"
        },
        "id": "Bc6qcBGOMHv7",
        "outputId": "c1c4785e-ddcb-4cc2-ca80-f9a07455e3ab"
      },
      "outputs": [],
      "source": [
        "# Validation score\n",
        "loss,acc = model.evaluate(x_val, y_val_class, verbose=2)"
      ]
    },
    {
      "cell_type": "code",
      "execution_count": null,
      "metadata": {
        "colab": {
          "base_uri": "https://localhost:8080/"
        },
        "id": "j70DNePpra_c",
        "outputId": "c14ab26e-5544-4fd1-c462-3033694983dd"
      },
      "outputs": [],
      "source": [
        "# Validation set prediction accuracy rates\n",
        "\n",
        "values = cm.diagonal()\n",
        "row_sum = np.sum(cm,axis=1)\n",
        "acc = values / row_sum\n",
        "\n",
        "print('Validation set predicted emotions accuracy:')\n",
        "for e in range(0, len(values)):\n",
        "    print(index[e],':', f\"{(acc[e]):0.4f}\")"
      ]
    },
    {
      "cell_type": "code",
      "execution_count": null,
      "metadata": {
        "id": "8ybMruIrra_d"
      },
      "outputs": [],
      "source": [
        "# Saving model & weights\n",
        "\n",
        "from keras.models import model_from_json\n",
        "from keras.models import load_model\n",
        "\n",
        "model_json = model.to_json()\n",
        "saved_model_path = '/content/drive/My Drive/Colab Notebooks/model8723.json'\n",
        "saved_weights_path = '/content/drive/My Drive/Colab Notebooks/model8723_weights.h5'\n",
        "\n",
        "\n",
        "with open(saved_model_path, \"w\") as json_file:\n",
        "    json_file.write(model_json)\n",
        "\n",
        "model.save_weights(saved_weights_path)\n",
        "print(\"Saved model to disk\")\n"
      ]
    },
    {
      "cell_type": "code",
      "execution_count": null,
      "metadata": {
        "id": "9aw0_8VfOa30"
      },
      "outputs": [],
      "source": [
        "# Loading x_test, y_test json files, and converting to np.arrays\n",
        "\n",
        "x_test = load( 'x_test_data.json')\n",
        "x_test = np.asarray(x_test).astype('float32')\n",
        "\n",
        "y_test = load('y_test_data.json')\n",
        "y_test = np.asarray(y_test).astype('int8')\n",
        "\n",
        "y_test_class = tf.keras.utils.to_categorical(y_test, 8, dtype = 'int8')"
      ]
    },
    {
      "cell_type": "code",
      "execution_count": null,
      "metadata": {
        "id": "b56-z_GUOa31",
        "outputId": "bd313c2f-f11d-4600-f1b7-1f8e6761253e"
      },
      "outputs": [],
      "source": [
        "loss, acc = model.evaluate(x_test, y_test_class, verbose=2)"
      ]
    },
    {
      "cell_type": "code",
      "execution_count": null,
      "metadata": {
        "id": "Hwbkmv2yOa32",
        "outputId": "7240b418-c619-4df9-f077-0361f0f452f1"
      },
      "outputs": [],
      "source": [
        "# Test set prediction accuracy rates\n",
        "\n",
        "values = cm.diagonal()\n",
        "row_sum = np.sum(cm,axis=1)\n",
        "acc = values / row_sum\n",
        "\n",
        "print('Test set predicted emotions accuracy:')\n",
        "for e in range(0, len(values)):\n",
        "    print(index[e],':', f\"{(acc[e]):0.4f}\")"
      ]
    }
  ],
  "metadata": {
    "colab": {
      "name": "2_model.ipynb",
      "provenance": [],
      "toc_visible": true
    },
    "kernelspec": {
      "display_name": "Python 3",
      "language": "python",
      "name": "python3"
    },
    "language_info": {
      "codemirror_mode": {
        "name": "ipython",
        "version": 3
      },
      "file_extension": ".py",
      "mimetype": "text/x-python",
      "name": "python",
      "nbconvert_exporter": "python",
      "pygments_lexer": "ipython3",
      "version": "3.8.5"
    }
  },
  "nbformat": 4,
  "nbformat_minor": 0
}
